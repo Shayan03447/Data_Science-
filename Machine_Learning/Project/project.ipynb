{
 "cells": [
  {
   "cell_type": "code",
   "execution_count": null,
   "id": "f183fd60",
   "metadata": {},
   "outputs": [],
   "source": [
    "import pandas as pd\n",
    "import numpy as np\n",
    "import matplotlib.pyplot as plt\n",
    "import seaborn as sns \n",
    "%matplotlib inline"
   ]
  },
  {
   "cell_type": "markdown",
   "id": "7b3bc26e",
   "metadata": {},
   "source": [
    "Load the data "
   ]
  },
  {
   "cell_type": "code",
   "execution_count": null,
   "id": "b0736ac0",
   "metadata": {},
   "outputs": [],
   "source": [
    "df=pd.read_csv('./Data_project/bengaluru_house_prices.csv')\n",
    "df.head()"
   ]
  },
  {
   "cell_type": "code",
   "execution_count": null,
   "id": "8a8a6cd2",
   "metadata": {},
   "outputs": [],
   "source": [
    "df.shape"
   ]
  },
  {
   "cell_type": "markdown",
   "id": "3d4f81a1",
   "metadata": {},
   "source": [
    "Check the columns one by one"
   ]
  },
  {
   "cell_type": "code",
   "execution_count": null,
   "id": "b82bd0d3",
   "metadata": {},
   "outputs": [],
   "source": [
    "df['area_type'].value_counts()"
   ]
  },
  {
   "cell_type": "code",
   "execution_count": null,
   "id": "6b4b66c6",
   "metadata": {},
   "outputs": [],
   "source": [
    "df.groupby('area_type')['area_type'].agg('count')"
   ]
  },
  {
   "cell_type": "markdown",
   "id": "3314945b",
   "metadata": {},
   "source": [
    "Drop the unimportant columns"
   ]
  },
  {
   "cell_type": "code",
   "execution_count": null,
   "id": "859c3f01",
   "metadata": {},
   "outputs": [],
   "source": [
    "df2=df.drop(['area_type','availability','society','balcony'],axis=1)\n",
    "df2.head()"
   ]
  },
  {
   "cell_type": "markdown",
   "id": "8df96e25",
   "metadata": {},
   "source": [
    "# Data Cleaning"
   ]
  },
  {
   "cell_type": "code",
   "execution_count": null,
   "id": "1a3b9795",
   "metadata": {},
   "outputs": [],
   "source": [
    "# Hundling missing value\n",
    "df2.isnull().sum()"
   ]
  },
  {
   "cell_type": "code",
   "execution_count": null,
   "id": "51804ddd",
   "metadata": {},
   "outputs": [],
   "source": [
    "# Fill the bath null values by median "
   ]
  },
  {
   "cell_type": "code",
   "execution_count": null,
   "id": "720c919a",
   "metadata": {},
   "outputs": [],
   "source": [
    "df2['bath'].median()"
   ]
  },
  {
   "cell_type": "code",
   "execution_count": null,
   "id": "46caca95",
   "metadata": {},
   "outputs": [],
   "source": [
    "import math\n",
    "bath_median=math.floor(df2['bath'].median())"
   ]
  },
  {
   "cell_type": "code",
   "execution_count": null,
   "id": "cf9f5ed0",
   "metadata": {},
   "outputs": [],
   "source": [
    "df2['bath']=df2['bath'].fillna(bath_median)"
   ]
  },
  {
   "cell_type": "code",
   "execution_count": null,
   "id": "d4e4a632",
   "metadata": {},
   "outputs": [],
   "source": [
    "df2.isnull().sum()"
   ]
  },
  {
   "cell_type": "markdown",
   "id": "4b6d79e6",
   "metadata": {},
   "source": [
    "Drop the remain null values"
   ]
  },
  {
   "cell_type": "code",
   "execution_count": null,
   "id": "57e1a32e",
   "metadata": {},
   "outputs": [],
   "source": [
    "df3=df2.dropna()"
   ]
  },
  {
   "cell_type": "code",
   "execution_count": null,
   "id": "98445e30",
   "metadata": {},
   "outputs": [],
   "source": [
    "df3.isnull().sum()"
   ]
  },
  {
   "cell_type": "code",
   "execution_count": null,
   "id": "89d6df68",
   "metadata": {},
   "outputs": [],
   "source": [
    "df3['size'].unique()"
   ]
  },
  {
   "cell_type": "code",
   "execution_count": null,
   "id": "d366aee9",
   "metadata": {},
   "outputs": [],
   "source": [
    "df3.head()"
   ]
  },
  {
   "cell_type": "code",
   "execution_count": null,
   "id": "6012cf4a",
   "metadata": {},
   "outputs": [],
   "source": [
    "df3.info()"
   ]
  },
  {
   "cell_type": "code",
   "execution_count": null,
   "id": "4897e57c",
   "metadata": {},
   "outputs": [],
   "source": [
    "df3['BHK']=df3['size'].apply(lambda x: int(x.split(' ')[0]))"
   ]
  },
  {
   "cell_type": "code",
   "execution_count": null,
   "id": "51aafc07",
   "metadata": {},
   "outputs": [],
   "source": [
    "df3.head()"
   ]
  },
  {
   "cell_type": "code",
   "execution_count": null,
   "id": "78c818c1",
   "metadata": {},
   "outputs": [],
   "source": [
    "df3['BHK']"
   ]
  },
  {
   "cell_type": "code",
   "execution_count": null,
   "id": "f4ecc11b",
   "metadata": {},
   "outputs": [],
   "source": [
    "df3['BHK'].unique()"
   ]
  },
  {
   "cell_type": "code",
   "execution_count": null,
   "id": "823ee404",
   "metadata": {},
   "outputs": [],
   "source": [
    "df3[df3['BHK']==43]"
   ]
  },
  {
   "cell_type": "code",
   "execution_count": null,
   "id": "e6f1ab15",
   "metadata": {},
   "outputs": [],
   "source": [
    "df3[df3['BHK']>20]"
   ]
  },
  {
   "cell_type": "code",
   "execution_count": null,
   "id": "afd4dcee",
   "metadata": {},
   "outputs": [],
   "source": [
    "df3[df3['BHK']<20]"
   ]
  },
  {
   "cell_type": "markdown",
   "id": "2741b608",
   "metadata": {},
   "source": [
    "Next Columns"
   ]
  },
  {
   "cell_type": "code",
   "execution_count": null,
   "id": "f1051dce",
   "metadata": {},
   "outputs": [],
   "source": [
    "df3['total_sqft'].unique()"
   ]
  },
  {
   "cell_type": "code",
   "execution_count": null,
   "id": "430df743",
   "metadata": {},
   "outputs": [],
   "source": [
    "df3.info()"
   ]
  },
  {
   "cell_type": "markdown",
   "id": "f63973c1",
   "metadata": {},
   "source": [
    "Make a function that convert the values in sqft to float by try and except method"
   ]
  },
  {
   "cell_type": "code",
   "execution_count": null,
   "id": "91b9ccdc",
   "metadata": {},
   "outputs": [],
   "source": [
    "def is_float(x):\n",
    "    try:\n",
    "         float(x)\n",
    "    \n",
    "    except:\n",
    "        return False\n",
    "    return True\n",
    "\n",
    "#this function chk that if we can convert the x into float \n",
    "#try method helps to convert the x into float \n",
    "#if the value is in string try method help to convert it into the float \n",
    "#if the value is not converted into the float it execute in except method or it return the false \n",
    "\n"
   ]
  },
  {
   "cell_type": "code",
   "execution_count": null,
   "id": "513936bb",
   "metadata": {},
   "outputs": [],
   "source": [
    "df3.head()"
   ]
  },
  {
   "cell_type": "code",
   "execution_count": null,
   "id": "d7c8ed43",
   "metadata": {},
   "outputs": [],
   "source": [
    "#Apply the function\n",
    "df3[df3['total_sqft'].apply(is_float)]\n",
    "#it will the true value like float converting value "
   ]
  },
  {
   "cell_type": "code",
   "execution_count": null,
   "id": "be5b53ce",
   "metadata": {},
   "outputs": [],
   "source": [
    "#but i want to see thoes values who's not converted into float so use ~ this is a negate function \n",
    "df3[~df3['total_sqft'].apply(is_float)]"
   ]
  },
  {
   "cell_type": "code",
   "execution_count": null,
   "id": "bb66f190",
   "metadata": {},
   "outputs": [],
   "source": [
    "def convert_sqft_to_num(x):\n",
    "    tokens=x.split('-')\n",
    "    if len(tokens)==2:\n",
    "        return (float(tokens[0])+float(tokens[1])/2)\n",
    "    try:\n",
    "        return float(x)\n",
    "    except:\n",
    "        return None\n"
   ]
  },
  {
   "cell_type": "code",
   "execution_count": null,
   "id": "3eb4cec3",
   "metadata": {},
   "outputs": [],
   "source": [
    "convert_sqft_to_num(\"1521\")"
   ]
  },
  {
   "cell_type": "code",
   "execution_count": null,
   "id": "d8f4aaa9",
   "metadata": {},
   "outputs": [],
   "source": [
    "df4=df3.copy()"
   ]
  },
  {
   "cell_type": "code",
   "execution_count": null,
   "id": "79ff03de",
   "metadata": {},
   "outputs": [],
   "source": [
    "df4.head()"
   ]
  },
  {
   "cell_type": "code",
   "execution_count": null,
   "id": "c2b2dd42",
   "metadata": {},
   "outputs": [],
   "source": [
    "df4['total_sqft']=df4['total_sqft'].apply(convert_sqft_to_num)"
   ]
  },
  {
   "cell_type": "code",
   "execution_count": null,
   "id": "52d7488b",
   "metadata": {},
   "outputs": [],
   "source": [
    "df4.head()"
   ]
  },
  {
   "cell_type": "code",
   "execution_count": null,
   "id": "057d2db8",
   "metadata": {},
   "outputs": [],
   "source": [
    "df4.tail()"
   ]
  },
  {
   "cell_type": "code",
   "execution_count": null,
   "id": "3de1d21f",
   "metadata": {},
   "outputs": [],
   "source": [
    "df4.loc[30]"
   ]
  },
  {
   "cell_type": "markdown",
   "id": "f70f95bb",
   "metadata": {},
   "source": [
    "Feature Engineering "
   ]
  },
  {
   "cell_type": "code",
   "execution_count": null,
   "id": "4d0081ed",
   "metadata": {},
   "outputs": [],
   "source": [
    "df5=df4.copy()"
   ]
  },
  {
   "cell_type": "code",
   "execution_count": null,
   "id": "2664ea8d",
   "metadata": {},
   "outputs": [],
   "source": [
    "df5.head()"
   ]
  },
  {
   "cell_type": "code",
   "execution_count": null,
   "id": "e2955533",
   "metadata": {},
   "outputs": [],
   "source": [
    "df5['Price_Per_Sqft']=df5['price']*100000/df5['total_sqft']"
   ]
  },
  {
   "cell_type": "code",
   "execution_count": null,
   "id": "7ee4f448",
   "metadata": {},
   "outputs": [],
   "source": [
    "df5.head()"
   ]
  },
  {
   "cell_type": "code",
   "execution_count": null,
   "id": "48ecad50",
   "metadata": {},
   "outputs": [],
   "source": [
    "df5['location'].value_counts()"
   ]
  },
  {
   "cell_type": "code",
   "execution_count": null,
   "id": "d75f2096",
   "metadata": {},
   "outputs": [],
   "source": [
    "df5.groupby('location')['location'].agg('count')"
   ]
  },
  {
   "cell_type": "code",
   "execution_count": null,
   "id": "c7f24316",
   "metadata": {},
   "outputs": [],
   "source": [
    "len(df5['location'])"
   ]
  },
  {
   "cell_type": "markdown",
   "id": "61ceb26b",
   "metadata": {},
   "source": [
    "clean the whitespaces ' jp nagar '"
   ]
  },
  {
   "cell_type": "code",
   "execution_count": null,
   "id": "76d9e6ed",
   "metadata": {},
   "outputs": [],
   "source": [
    "df5['location']=df5['location'].apply(lambda x: x.strip())"
   ]
  },
  {
   "cell_type": "code",
   "execution_count": null,
   "id": "e5f67597",
   "metadata": {},
   "outputs": [],
   "source": [
    "df5['location'].head()"
   ]
  },
  {
   "cell_type": "code",
   "execution_count": null,
   "id": "19ff0128",
   "metadata": {},
   "outputs": [],
   "source": [
    "len(df5['location'])"
   ]
  },
  {
   "cell_type": "code",
   "execution_count": null,
   "id": "ec04a554",
   "metadata": {},
   "outputs": [],
   "source": [
    "df5['location'].value_counts()"
   ]
  },
  {
   "cell_type": "code",
   "execution_count": null,
   "id": "f3da1fad",
   "metadata": {},
   "outputs": [],
   "source": [
    "location_stat=df5['location'].value_counts().sort_index(ascending=False)"
   ]
  },
  {
   "cell_type": "code",
   "execution_count": null,
   "id": "8594c499",
   "metadata": {},
   "outputs": [],
   "source": [
    "location_stat.head()"
   ]
  },
  {
   "cell_type": "code",
   "execution_count": null,
   "id": "2ad4e4b6",
   "metadata": {},
   "outputs": [],
   "source": [
    "len(location_stat[location_stat<=10])"
   ]
  },
  {
   "cell_type": "code",
   "execution_count": null,
   "id": "2c8fa608",
   "metadata": {},
   "outputs": [],
   "source": [
    "location_stat_less_then_10=location_stat[location_stat<=10]"
   ]
  },
  {
   "cell_type": "code",
   "execution_count": null,
   "id": "d5ac069f",
   "metadata": {},
   "outputs": [],
   "source": [
    "len(location_stat_less_then_10)"
   ]
  },
  {
   "cell_type": "code",
   "execution_count": null,
   "id": "9543ae39",
   "metadata": {},
   "outputs": [],
   "source": [
    "len(df5['location'].unique())"
   ]
  },
  {
   "cell_type": "code",
   "execution_count": null,
   "id": "13fe17ab",
   "metadata": {},
   "outputs": [],
   "source": [
    "df5['location']=df5['location'].apply(lambda x: 'other' if x in location_stat_less_then_10 else x)"
   ]
  },
  {
   "cell_type": "code",
   "execution_count": null,
   "id": "a24c7344",
   "metadata": {},
   "outputs": [],
   "source": [
    "df5['location'].head()"
   ]
  },
  {
   "cell_type": "code",
   "execution_count": null,
   "id": "a46f830f",
   "metadata": {},
   "outputs": [],
   "source": [
    "len(df5['location'].unique())"
   ]
  },
  {
   "cell_type": "code",
   "execution_count": null,
   "id": "7527fe3d",
   "metadata": {},
   "outputs": [],
   "source": [
    "df5['location'].unique()"
   ]
  },
  {
   "cell_type": "code",
   "execution_count": null,
   "id": "5eb937de",
   "metadata": {},
   "outputs": [],
   "source": [
    "df5.head()"
   ]
  },
  {
   "cell_type": "code",
   "execution_count": null,
   "id": "675206a6",
   "metadata": {},
   "outputs": [],
   "source": [
    "df6=df5[~(df5['total_sqft']/df5['BHK']<300)]"
   ]
  },
  {
   "cell_type": "code",
   "execution_count": null,
   "id": "fb757816",
   "metadata": {},
   "outputs": [],
   "source": [
    "df6.head()"
   ]
  },
  {
   "cell_type": "code",
   "execution_count": null,
   "id": "b61f7032",
   "metadata": {},
   "outputs": [],
   "source": [
    "len(df6['location'])"
   ]
  },
  {
   "cell_type": "code",
   "execution_count": null,
   "id": "a8cab982",
   "metadata": {},
   "outputs": [],
   "source": [
    "def remove_pps_outlier(df):\n",
    "    df_out=pd.DataFrame()\n",
    "    for key, subdf in df.groupby('location'):\n",
    "        m=np.mean(subdf.Price_Per_Sqft)\n",
    "        st=np.std(subdf.Price_Per_Sqft)\n",
    "        reduced_df=subdf[(subdf.Price_Per_Sqft>(m-st )) & (subdf.Price_Per_Sqft<=(m+st))]\n",
    "        df_out=pd.concat([df_out,reduced_df],ignore_index=True)\n",
    "    return df_out\n"
   ]
  },
  {
   "cell_type": "code",
   "execution_count": null,
   "id": "fbd71646",
   "metadata": {},
   "outputs": [],
   "source": [
    "df7=remove_pps_outlier(df6)"
   ]
  },
  {
   "cell_type": "code",
   "execution_count": null,
   "id": "e7fd0155",
   "metadata": {},
   "outputs": [],
   "source": [
    "df7.head()"
   ]
  },
  {
   "cell_type": "code",
   "execution_count": null,
   "id": "cb21dedb",
   "metadata": {},
   "outputs": [],
   "source": [
    "df7.shape"
   ]
  },
  {
   "cell_type": "code",
   "execution_count": null,
   "id": "bd47ab87",
   "metadata": {},
   "outputs": [],
   "source": [
    "def remove_bhk_outlier(df):\n",
    "    exclude_indices=np.array([])\n",
    "    for location, location_df in df.groupby('location'):\n",
    "        bhk_stats={}\n",
    "        for bhk, bhk_df in location_df.groupby('BHK'):\n",
    "            bhk_stats[bhk]={\n",
    "                'mean':np.mean(bhk_df.Price_Per_Sqft),\n",
    "                'std':np.std(bhk_df.Price_Per_Sqft),\n",
    "                'count':bhk_df.shape[0]\n",
    "            }\n",
    "        for bhk, bhk_df in location_df.groupby('BHK'):\n",
    "            stats=bhk_stats.get(bhk-1)\n",
    "            if stats and stats['count']>5:\n",
    "                exclude_indices=np.append(exclude_indices,bhk_df[bhk_df.Price_Per_Sqft<(stats['mean'])].index.values)\n",
    "    return df.drop(exclude_indices,axis='index')\n",
    "df8=remove_bhk_outlier(df7)\n",
    "df8.shape\n"
   ]
  },
  {
   "cell_type": "code",
   "execution_count": null,
   "id": "9b80fcc8",
   "metadata": {},
   "outputs": [],
   "source": [
    "def plot_scatter_chart(df,location):\n",
    "    bhk2=df[(df.location==location) & (df.BHK==2)]\n",
    "    bhk3=df[(df.location==location) & (df.BHK==3)]\n",
    "    plt.scatter(bhk2.total_sqft,bhk2.price,color='red',label='2 BHK',s=50)\n",
    "    plt.scatter(bhk3.total_sqft,bhk3.price,label='3 BHK',color=\"green\",s=50,marker='+')\n",
    "    plt.xlabel('total_sqft_area')\n",
    "    plt.ylabel('price')\n",
    "    plt.title(location)\n",
    "plot_scatter_chart(df8,'Hebbal')\n"
   ]
  },
  {
   "cell_type": "code",
   "execution_count": null,
   "id": "7959ee92",
   "metadata": {},
   "outputs": [],
   "source": [
    "plt.hist(df7['Price_Per_Sqft'],rwidth=0.8)"
   ]
  },
  {
   "cell_type": "code",
   "execution_count": null,
   "id": "d4f6aee2",
   "metadata": {},
   "outputs": [],
   "source": [
    "df8['bath'].unique()"
   ]
  },
  {
   "cell_type": "code",
   "execution_count": null,
   "id": "e95987bd",
   "metadata": {},
   "outputs": [],
   "source": [
    "plt.hist(df8['bath'])"
   ]
  },
  {
   "cell_type": "code",
   "execution_count": null,
   "id": "6815ab20",
   "metadata": {},
   "outputs": [],
   "source": [
    "df9=df8.drop(['Price_Per_Sqft','size'],axis=1)"
   ]
  },
  {
   "cell_type": "code",
   "execution_count": null,
   "id": "eaec0bd8",
   "metadata": {},
   "outputs": [],
   "source": [
    "df9"
   ]
  },
  {
   "cell_type": "code",
   "execution_count": null,
   "id": "946ad307",
   "metadata": {},
   "outputs": [],
   "source": [
    "df9.info()"
   ]
  },
  {
   "cell_type": "code",
   "execution_count": null,
   "id": "8337223a",
   "metadata": {},
   "outputs": [],
   "source": [
    "dummies=pd.get_dummies(df9['location'])"
   ]
  },
  {
   "cell_type": "code",
   "execution_count": null,
   "id": "a517df7e",
   "metadata": {},
   "outputs": [],
   "source": [
    "df10=pd.concat([df9,dummies.drop('other',axis=1)],axis=1)"
   ]
  },
  {
   "cell_type": "code",
   "execution_count": null,
   "id": "cc23b482",
   "metadata": {},
   "outputs": [],
   "source": [
    "df10.head()"
   ]
  },
  {
   "cell_type": "code",
   "execution_count": null,
   "id": "886af694",
   "metadata": {},
   "outputs": [],
   "source": [
    "df11=df10.drop('location',axis=1)"
   ]
  },
  {
   "cell_type": "code",
   "execution_count": null,
   "id": "190d1453",
   "metadata": {},
   "outputs": [],
   "source": [
    "df11.head()"
   ]
  },
  {
   "cell_type": "code",
   "execution_count": null,
   "id": "55630442",
   "metadata": {},
   "outputs": [],
   "source": [
    "x=df11.drop('price',axis=1)"
   ]
  },
  {
   "cell_type": "code",
   "execution_count": null,
   "id": "c69ed78a",
   "metadata": {},
   "outputs": [],
   "source": [
    "x"
   ]
  },
  {
   "cell_type": "code",
   "execution_count": null,
   "id": "518282b6",
   "metadata": {},
   "outputs": [],
   "source": [
    "x=x.astype(int)"
   ]
  },
  {
   "cell_type": "code",
   "execution_count": null,
   "id": "6668826f",
   "metadata": {},
   "outputs": [],
   "source": [
    "x"
   ]
  },
  {
   "cell_type": "code",
   "execution_count": null,
   "id": "97f22b33",
   "metadata": {},
   "outputs": [],
   "source": [
    "y=df11['price']"
   ]
  },
  {
   "cell_type": "code",
   "execution_count": null,
   "id": "5944f59d",
   "metadata": {},
   "outputs": [],
   "source": [
    "y"
   ]
  },
  {
   "cell_type": "code",
   "execution_count": null,
   "id": "ffb34fa2",
   "metadata": {},
   "outputs": [],
   "source": [
    "from sklearn.model_selection import train_test_split"
   ]
  },
  {
   "cell_type": "code",
   "execution_count": null,
   "id": "4084bcdd",
   "metadata": {},
   "outputs": [],
   "source": [
    "x_train,x_test,y_train,y_test=train_test_split(x,y,test_size=0.2,random_state=10)"
   ]
  },
  {
   "cell_type": "code",
   "execution_count": null,
   "id": "952abb02",
   "metadata": {},
   "outputs": [],
   "source": [
    "len(x_train)"
   ]
  },
  {
   "cell_type": "code",
   "execution_count": null,
   "id": "5de6e0af",
   "metadata": {},
   "outputs": [],
   "source": [
    "len(x_test)"
   ]
  },
  {
   "cell_type": "code",
   "execution_count": null,
   "id": "d603ad5a",
   "metadata": {},
   "outputs": [],
   "source": [
    "print(x.dtypes)"
   ]
  },
  {
   "cell_type": "code",
   "execution_count": null,
   "id": "d09a52e8",
   "metadata": {},
   "outputs": [],
   "source": []
  },
  {
   "cell_type": "code",
   "execution_count": null,
   "id": "a4406489",
   "metadata": {},
   "outputs": [],
   "source": [
    "from sklearn.linear_model import LinearRegression\n",
    "lr=LinearRegression()\n",
    "lr.fit(x_train,y_train)"
   ]
  },
  {
   "cell_type": "code",
   "execution_count": null,
   "id": "14907c2e",
   "metadata": {},
   "outputs": [],
   "source": [
    "from sklearn.model_selection import ShuffleSplit\n",
    "from sklearn.model_selection import cross_val_score\n",
    "from sklearn.linear_model import LinearRegression\n",
    "cv=ShuffleSplit(n_splits=5,test_size=0.2,random_state=10)\n",
    "cross_val_score(LinearRegression(),x,y,cv=cv)"
   ]
  },
  {
   "cell_type": "code",
   "execution_count": null,
   "id": "fcac2259",
   "metadata": {},
   "outputs": [],
   "source": [
    "from sklearn.linear_model import Lasso\n",
    "from sklearn.tree import DecisionTreeRegressor\n",
    "from sklearn.model_selection import GridSearchCV\n",
    "def find_best_model_using_gridsearchcv(x,y):\n",
    "    algos={\n",
    "        'LinearRegression':{\n",
    "           'model':LinearRegression(),\n",
    "           'params':{\n",
    "               #'normalize':[True,False]\n",
    "           }\n",
    "        },\n",
    "        'lasso':{\n",
    "            'model':Lasso(),\n",
    "            'params':{\n",
    "                'alpha':[1,2],\n",
    "                'selection':['random','cyclic']\n",
    "            }\n",
    "        },\n",
    "        'decision_tree':{\n",
    "            'model':DecisionTreeRegressor(),\n",
    "            'params':{\n",
    "                'criterion':['squared_error','friedman_mse'],\n",
    "                'splitter':['best','random']\n",
    "            }\n",
    "        }\n",
    "    }\n",
    "    \n",
    "    score=[]\n",
    "    cv=ShuffleSplit(n_splits=5,test_size=0.2,random_state=10)\n",
    "    for algos_name,config in algos.items():\n",
    "        gs=GridSearchCV(config['model'],config['params'],cv=cv,return_train_score=False)\n",
    "        gs.fit(x,y)\n",
    "        score.append({\n",
    "            'model':algos_name,\n",
    "            'best_score':gs.best_score_,\n",
    "            'best_params':gs.best_params_\n",
    "        })\n",
    "\n",
    "    return pd.DataFrame(score,columns=['model','best_score','best_params'])\n",
    "    \n",
    "    \n",
    "find_best_model_using_gridsearchcv(x,y)"
   ]
  },
  {
   "cell_type": "code",
   "execution_count": null,
   "id": "d4ad5ee8",
   "metadata": {},
   "outputs": [],
   "source": []
  },
  {
   "cell_type": "code",
   "execution_count": null,
   "id": "f1434f76",
   "metadata": {},
   "outputs": [],
   "source": [
    "x.columns"
   ]
  },
  {
   "cell_type": "code",
   "execution_count": null,
   "id": "92edd060",
   "metadata": {},
   "outputs": [],
   "source": [
    "\n",
    "def predict_price(location,sqft,bath,BHK,x,lr):\n",
    "    loc_index=np.where(x.columns==location)[0][0]\n",
    "\n",
    "    x=np.zeros(len(x.columns))\n",
    "    x[0]=sqft\n",
    "    x[1]=bath\n",
    "    x[2]=BHK\n",
    "    if loc_index>=0:\n",
    "        x[loc_index]=1\n",
    "    return lr.predict([x])[0]"
   ]
  },
  {
   "cell_type": "code",
   "execution_count": null,
   "id": "9cc6e1ab",
   "metadata": {},
   "outputs": [],
   "source": [
    "predict_price('1st Phase JP Nagar',1000,2,2,x,lr)"
   ]
  },
  {
   "cell_type": "code",
   "execution_count": null,
   "id": "ac1e3061",
   "metadata": {},
   "outputs": [],
   "source": [
    "import pickle\n",
    "with open('project.pickle','wb') as f:\n",
    "    pickle.dump(lr,f)"
   ]
  },
  {
   "cell_type": "code",
   "execution_count": null,
   "id": "d9ceebff",
   "metadata": {},
   "outputs": [],
   "source": []
  }
 ],
 "metadata": {
  "kernelspec": {
   "display_name": "Python 3",
   "language": "python",
   "name": "python3"
  },
  "language_info": {
   "codemirror_mode": {
    "name": "ipython",
    "version": 3
   },
   "file_extension": ".py",
   "mimetype": "text/x-python",
   "name": "python",
   "nbconvert_exporter": "python",
   "pygments_lexer": "ipython3",
   "version": "3.10.0"
  }
 },
 "nbformat": 4,
 "nbformat_minor": 5
}
