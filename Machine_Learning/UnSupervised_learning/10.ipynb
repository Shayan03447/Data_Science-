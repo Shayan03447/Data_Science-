{
 "cells": [
  {
   "cell_type": "markdown",
   "id": "85654bc2",
   "metadata": {},
   "source": [
    "Overfiting is a very common issue in the machine learning  and l1 and l2 regularization are some of the technique that can be used to adress the overfiting issue "
   ]
  }
 ],
 "metadata": {
  "language_info": {
   "name": "python"
  }
 },
 "nbformat": 4,
 "nbformat_minor": 5
}
