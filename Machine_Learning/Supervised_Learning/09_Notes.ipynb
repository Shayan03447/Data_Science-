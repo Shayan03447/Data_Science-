import numpy as np

x = 2.5
sigmoid = 1 / (1 + np.exp(-x))
print(sigmoid)  # ≈ 0.924
To 2.5 ka sigmoid ≈ 0.924 → Matlab 92.4% chance hai ke person ko diabetes hai.

Sigmoid hamesha value ko 0 se 1 ke darmiyan convert karta hai.

